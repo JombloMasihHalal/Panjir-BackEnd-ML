{
 "cells": [
  {
   "cell_type": "code",
   "execution_count": 38,
   "metadata": {},
   "outputs": [],
   "source": [
    "from transformers import TFDistilBertForTokenClassification, AutoTokenizer\n",
    "import tensorflow as tf\n",
    "import numpy as np\n",
    "from typing import Dict, List, Optional, Tuple"
   ]
  },
  {
   "cell_type": "code",
   "execution_count": 19,
   "metadata": {},
   "outputs": [
    {
     "name": "stderr",
     "output_type": "stream",
     "text": [
      "Some weights of the model checkpoint at loc_extraction_model were not used when initializing TFDistilBertForTokenClassification: ['dropout_19']\n",
      "- This IS expected if you are initializing TFDistilBertForTokenClassification from the checkpoint of a model trained on another task or with another architecture (e.g. initializing a BertForSequenceClassification model from a BertForPretraining model).\n",
      "- This IS NOT expected if you are initializing TFDistilBertForTokenClassification from the checkpoint of a model that you expect to be exactly identical (initializing a BertForSequenceClassification model from a BertForSequenceClassification model).\n",
      "Some weights of TFDistilBertForTokenClassification were not initialized from the model checkpoint at loc_extraction_model and are newly initialized: ['dropout_137']\n",
      "You should probably TRAIN this model on a down-stream task to be able to use it for predictions and inference.\n"
     ]
    }
   ],
   "source": [
    "loaded_model = TFDistilBertForTokenClassification.from_pretrained(\"loc_extraction_model\")"
   ]
  },
  {
   "cell_type": "code",
   "execution_count": 24,
   "metadata": {},
   "outputs": [],
   "source": [
    "tokenizer = AutoTokenizer.from_pretrained('loc_extraction_model')"
   ]
  },
  {
   "cell_type": "code",
   "execution_count": 63,
   "metadata": {},
   "outputs": [
    {
     "name": "stdout",
     "output_type": "stream",
     "text": [
      "\n",
      "O\n",
      "O\n",
      "O\n",
      "O\n",
      "O\n",
      "O\n",
      "O\n",
      "I-LOC\n",
      "I-LOC\n",
      "O\n",
      "I-LOC\n"
     ]
    },
    {
     "data": {
      "text/plain": [
       "['bundaran h', 'karet tgsin', 'kelapa gding']"
      ]
     },
     "execution_count": 63,
     "metadata": {},
     "output_type": "execute_result"
    }
   ],
   "source": [
    "label_list = [\n",
    "    \"B-LOC\",   # Beginning of a location right after another location\n",
    "    \"I-LOC\",    # Location\n",
    "    \"O\"\n",
    "]\n",
    "\n",
    "sequence = \"Jokowi memberikan pidato di bundaran hi , karet tengsin, dan kelapa gading\"\n",
    "\n",
    "# Bit of a hack to get the tokens with the special tokens\n",
    "tokens = tokenizer.tokenize(tokenizer.decode(tokenizer.encode(sequence)))\n",
    "inputs = tokenizer.encode(sequence, return_tensors=\"tf\")\n",
    "\n",
    "outputs = loaded_model(inputs)[0]\n",
    "predictions = tf.argmax(outputs, axis=2)\n",
    "\n",
    "# print([(token, label_list[prediction]) for token, prediction in zip(tokens, predictions[0].numpy())])\n",
    "locations = []\n",
    "prev_pred = ''\n",
    "for token, prediction in zip(tokens, predictions[0].numpy()):\n",
    "    if label_list[prediction] == 'B-LOC':\n",
    "        if prev_pred == 'B-LOC':\n",
    "            locations.append(phrase)\n",
    "        prev_pred = 'B-LOC'\n",
    "        phrase = token\n",
    "    elif label_list[prediction] =='I-LOC':\n",
    "        if token[0] == '#':\n",
    "            phrase = phrase + token.split('#')[-1]\n",
    "        else:\n",
    "            phrase = phrase + ' ' + token[0]\n",
    "        prev_pred = 'I-LOC'\n",
    "    else:\n",
    "        print(prev_pred)\n",
    "        if prev_pred == 'B-LOC' or prev_pred == 'I-LOC':\n",
    "            locations.append(phrase)\n",
    "        prev_pred = 'O'\n",
    "        phrase = ''\n",
    "\n",
    "if phrase:\n",
    "    locations.append(phrase)\n",
    "=       "
   ]
  },
  {
   "cell_type": "code",
   "execution_count": null,
   "metadata": {},
   "outputs": [],
   "source": []
  },
  {
   "cell_type": "code",
   "execution_count": null,
   "metadata": {},
   "outputs": [],
   "source": []
  }
 ],
 "metadata": {
  "kernelspec": {
   "display_name": "Python 3",
   "language": "python",
   "name": "python3"
  },
  "language_info": {
   "codemirror_mode": {
    "name": "ipython",
    "version": 3
   },
   "file_extension": ".py",
   "mimetype": "text/x-python",
   "name": "python",
   "nbconvert_exporter": "python",
   "pygments_lexer": "ipython3",
   "version": "3.8.3"
  }
 },
 "nbformat": 4,
 "nbformat_minor": 4
}
